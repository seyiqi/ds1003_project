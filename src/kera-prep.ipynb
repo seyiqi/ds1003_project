{
 "cells": [
  {
   "cell_type": "markdown",
   "metadata": {},
   "source": [
    "# Quora question pairs: data preparation"
   ]
  },
  {
   "cell_type": "markdown",
   "metadata": {},
   "source": [
    "## Import packages"
   ]
  },
  {
   "cell_type": "code",
   "execution_count": 8,
   "metadata": {
    "collapsed": false
   },
   "outputs": [],
   "source": [
    "from __future__ import print_function\n",
    "\n",
    "import numpy as np\n",
    "import csv, json\n",
    "from zipfile import ZipFile\n",
    "import os\n",
    "from os.path import expanduser, exists\n",
    "\n",
    "from keras.preprocessing.text import Tokenizer\n",
    "from keras.preprocessing.sequence import pad_sequences\n",
    "from keras.utils.data_utils import get_file\n",
    "import pandas as pd"
   ]
  },
  {
   "cell_type": "markdown",
   "metadata": {},
   "source": [
    "## Load Data Set"
   ]
  },
  {
   "cell_type": "code",
   "execution_count": 10,
   "metadata": {
    "collapsed": false
   },
   "outputs": [],
   "source": [
    "# load dataset\n",
    "def load_datasets(load_dir = \"../data/kaggle_competition/\", prefix=\"clean_kaggle_\", post_fix=\"\"):\n",
    "    \"\"\"\n",
    "    Function that loads the dataset\n",
    "    \"\"\"\n",
    "    train_set = pd.read_csv(os.path.join(load_dir, \"{0}train{1}.csv\".format(prefix,post_fix)), keep_default_na=False)\n",
    "    validation_set = pd.read_csv(os.path.join(load_dir, \"{0}validation{1}.csv\".format(prefix,post_fix)), keep_default_na=False)\n",
    "    test_set = pd.read_csv(os.path.join(load_dir, \"{0}test{1}.csv\".format(prefix,post_fix)), keep_default_na=False)\n",
    "    return train_set, validation_set, test_set\n",
    "\n",
    "def xy_split(df, label_col=\"is_duplicate\"):\n",
    "    \"\"\"\n",
    "    Function that splits a data frame into X and y\n",
    "    \"\"\"\n",
    "    return df.drop(label_col, axis=1), df[label_col]\n",
    "\n",
    "train_set, validation_set, test_set = load_datasets()"
   ]
  },
  {
   "cell_type": "markdown",
   "metadata": {},
   "source": [
    "## Initialize global variables"
   ]
  },
  {
   "cell_type": "code",
   "execution_count": 36,
   "metadata": {
    "collapsed": true
   },
   "outputs": [],
   "source": [
    "Q1_TRAINING_DATA_FILE = '../data/preprocessed/q1_train.npy'\n",
    "Q2_TRAINING_DATA_FILE = '../data/preprocessed/q2_train.npy'\n",
    "LABEL_TRAINING_DATA_FILE = '../data/preprocessed/label_train.npy'\n",
    "Q1_validate_DATA_FILE = '../data/preprocessed/q1_validate.npy'\n",
    "Q2_validate_DATA_FILE = '../data/preprocessed/q2_validate.npy'\n",
    "LABEL_validate_DATA_FILE = '../data/preprocessed/label_validate.npy'\n",
    "Q1_test_DATA_FILE = '../data/preprocessed/q1_test.npy'\n",
    "Q2_test_DATA_FILE = '../data/preprocessed/q2_test.npy'\n",
    "\n",
    "WORD_EMBEDDING_MATRIX_FILE = '../data/preprocessed/word_embedding_matrix.npy'\n",
    "NB_WORDS_DATA_FILE = '../data/preprocessed/nb_words.json'\n",
    "MAX_NB_WORDS = 200000\n",
    "MAX_SEQUENCE_LENGTH = 25\n",
    "EMBEDDING_DIM = 300"
   ]
  },
  {
   "cell_type": "markdown",
   "metadata": {},
   "source": [
    "## Download and extract questions pairs data"
   ]
  },
  {
   "cell_type": "code",
   "execution_count": 3,
   "metadata": {
    "collapsed": false
   },
   "outputs": [
    {
     "name": "stdout",
     "output_type": "stream",
     "text": [
      "Downloading data from http://qim.ec.quoracdn.net/quora_duplicate_questions.tsv\n",
      "Processing quora_duplicate_questions.tsv\n",
      "Question pairs: 404351\n"
     ]
    }
   ],
   "source": [
    "if not exists(KERAS_DATASETS_DIR + QUESTION_PAIRS_FILE):\n",
    "    get_file(QUESTION_PAIRS_FILE, QUESTION_PAIRS_FILE_URL)\n",
    "\n",
    "print(\"Processing\", QUESTION_PAIRS_FILE)\n",
    "\n",
    "question1 = []\n",
    "question2 = []\n",
    "is_duplicate = []\n",
    "with open(KERAS_DATASETS_DIR + QUESTION_PAIRS_FILE, encoding='utf-8') as csvfile:\n",
    "    reader = csv.DictReader(csvfile, delimiter='\\t')\n",
    "    for row in reader:\n",
    "        question1.append(row['text1'])\n",
    "        question2.append(row['text2'])\n",
    "        is_duplicate.append(row['duplicate'])\n",
    "\n",
    "print('Question pairs: %d' % len(question1))"
   ]
  },
  {
   "cell_type": "markdown",
   "metadata": {},
   "source": [
    "## Build tokenized word index"
   ]
  },
  {
   "cell_type": "code",
   "execution_count": 28,
   "metadata": {
    "collapsed": false
   },
   "outputs": [
    {
     "name": "stdout",
     "output_type": "stream",
     "text": [
      "Words in index: 84110\n"
     ]
    }
   ],
   "source": [
    "\n",
    "questions = train_set['clean_q1'] + train_set['clean_q2']\n",
    "tokenizer = Tokenizer(num_words=MAX_NB_WORDS)\n",
    "tokenizer.fit_on_texts(questions)\n",
    "question1_train = tokenizer.texts_to_sequences(train_set['clean_q1'])\n",
    "question2_train = tokenizer.texts_to_sequences(train_set['clean_q2'])\n",
    "question1_validate = tokenizer.texts_to_sequences(validation_set['clean_q1'])\n",
    "question2_validate = tokenizer.texts_to_sequences(validation_set['clean_q2'])\n",
    "question1_test = tokenizer.texts_to_sequences(test_set['clean_q1'])\n",
    "question2_test = tokenizer.texts_to_sequences(test_set['clean_q2'])\n",
    "word_index = tokenizer.word_index\n",
    "\n",
    "print(\"Words in index: %d\" % len(word_index))\n"
   ]
  },
  {
   "cell_type": "code",
   "execution_count": 30,
   "metadata": {
    "collapsed": false
   },
   "outputs": [
    {
     "data": {
      "text/plain": [
       "[[4, 13, 5, 218, 475, 63, 1965],\n",
       " [2, 9, 15, 9, 7, 30, 32, 15336, 6795],\n",
       " [23, 123, 31, 5, 126, 192, 2128],\n",
       " [2, 36, 186, 24, 2989, 44624, 147, 272, 530],\n",
       " [2, 3, 1, 69, 48, 1000, 12, 195, 327]]"
      ]
     },
     "execution_count": 30,
     "metadata": {},
     "output_type": "execute_result"
    }
   ],
   "source": [
    "question1_validate[:5]"
   ]
  },
  {
   "cell_type": "markdown",
   "metadata": {},
   "source": [
    "## Download and process GloVe embeddings"
   ]
  },
  {
   "cell_type": "code",
   "execution_count": 20,
   "metadata": {
    "collapsed": false
   },
   "outputs": [
    {
     "name": "stdout",
     "output_type": "stream",
     "text": [
      "Word embeddings: 2196016\n"
     ]
    }
   ],
   "source": [
    "embeddings_index = {}\n",
    "with open('/Users/jingyi/study/ml/glove.840B.300d.txt', encoding='utf-8') as f:\n",
    "    for line in f:\n",
    "        values = line.split(' ')\n",
    "        word = values[0]\n",
    "        embedding = np.asarray(values[1:], dtype='float32')\n",
    "        embeddings_index[word] = embedding\n",
    "\n",
    "print('Word embeddings: %d' % len(embeddings_index))"
   ]
  },
  {
   "cell_type": "markdown",
   "metadata": {},
   "source": [
    "## Prepare word embedding matrix"
   ]
  },
  {
   "cell_type": "code",
   "execution_count": 21,
   "metadata": {
    "collapsed": false
   },
   "outputs": [
    {
     "name": "stdout",
     "output_type": "stream",
     "text": [
      "Null word embeddings: 22751\n"
     ]
    }
   ],
   "source": [
    "num_words = min(MAX_NB_WORDS, len(word_index))\n",
    "word_embedding_matrix = np.zeros((num_words + 1, EMBEDDING_DIM))\n",
    "for word, i in word_index.items():\n",
    "    if i > MAX_NB_WORDS:\n",
    "        continue\n",
    "    embedding_vector = embeddings_index.get(word)\n",
    "    if embedding_vector is not None:\n",
    "        word_embedding_matrix[i] = embedding_vector\n",
    "\n",
    "print('Null word embeddings: %d' % np.sum(np.sum(word_embedding_matrix, axis=1) == 0))"
   ]
  },
  {
   "cell_type": "markdown",
   "metadata": {},
   "source": [
    "## Prepare training data tensors"
   ]
  },
  {
   "cell_type": "code",
   "execution_count": 35,
   "metadata": {
    "collapsed": false
   },
   "outputs": [
    {
     "name": "stdout",
     "output_type": "stream",
     "text": [
      "Shape of question1 train tensor: (323432, 25)\n",
      "Shape of question2 train tensor: (323432, 25)\n",
      "Shape of train label tensor: (323432,)\n",
      "Shape of question1 valid tensor: (80858, 25)\n",
      "Shape of question2 valid tensor: (80858, 25)\n",
      "Shape of valid label tensor: (80858,)\n",
      "Shape of question1 test tensor: (2345796, 25)\n",
      "Shape of question2 test tensor: (2345796, 25)\n"
     ]
    }
   ],
   "source": [
    "q1_train = pad_sequences(question1_train, maxlen=MAX_SEQUENCE_LENGTH)\n",
    "q2_train = pad_sequences(question2_train, maxlen=MAX_SEQUENCE_LENGTH)\n",
    "labels_train = np.array(train_set[\"is_duplicate\"], dtype=int)\n",
    "\n",
    "q1_validate = pad_sequences(question1_validate, maxlen=MAX_SEQUENCE_LENGTH)\n",
    "q2_validate = pad_sequences(question2_validate, maxlen=MAX_SEQUENCE_LENGTH)\n",
    "labels_validate = np.array(validation_set[\"is_duplicate\"], dtype=int)\n",
    "\n",
    "q1_test = pad_sequences(question1_test, maxlen=MAX_SEQUENCE_LENGTH)\n",
    "q2_test = pad_sequences(question2_test, maxlen=MAX_SEQUENCE_LENGTH)\n",
    "\n",
    "print('Shape of question1 train tensor:', q1_train.shape)\n",
    "print('Shape of question2 train tensor:', q2_train.shape)\n",
    "print('Shape of train label tensor:', labels_train.shape)\n",
    "\n",
    "print('Shape of question1 valid tensor:', q1_validate.shape)\n",
    "print('Shape of question2 valid tensor:', q2_validate.shape)\n",
    "print('Shape of valid label tensor:', labels_validate.shape)\n",
    "\n",
    "print('Shape of question1 test tensor:', q1_test.shape)\n",
    "print('Shape of question2 test tensor:', q2_test.shape)"
   ]
  },
  {
   "cell_type": "markdown",
   "metadata": {},
   "source": [
    "## Persist training and configuration data to files"
   ]
  },
  {
   "cell_type": "code",
   "execution_count": 39,
   "metadata": {
    "collapsed": false
   },
   "outputs": [],
   "source": [
    "np.save(open(Q1_TRAINING_DATA_FILE, 'wb'), q1_train)\n",
    "np.save(open(Q2_TRAINING_DATA_FILE, 'wb'), q2_train)\n",
    "np.save(open(LABEL_TRAINING_DATA_FILE, 'wb'), labels_train)\n",
    "np.save(open(Q1_validate_DATA_FILE, 'wb'), q1_validate)\n",
    "np.save(open(Q2_validate_DATA_FILE, 'wb'), q2_validate)\n",
    "np.save(open(LABEL_validate_DATA_FILE, 'wb'), labels_validate)\n",
    "np.save(open(Q1_test_DATA_FILE, 'wb'), q1_test)\n",
    "np.save(open(Q2_test_DATA_FILE, 'wb'), q2_test)\n",
    "np.save(open(WORD_EMBEDDING_MATRIX_FILE, 'wb'), word_embedding_matrix)\n",
    "with open(NB_WORDS_DATA_FILE, 'w') as f:\n",
    "    json.dump({'nb_words': num_words}, f)"
   ]
  },
  {
   "cell_type": "code",
   "execution_count": 41,
   "metadata": {
    "collapsed": false
   },
   "outputs": [
    {
     "data": {
      "text/plain": [
       "(323432, 25)"
      ]
     },
     "execution_count": 41,
     "metadata": {},
     "output_type": "execute_result"
    }
   ],
   "source": [
    "q1_train.shape"
   ]
  },
  {
   "cell_type": "code",
   "execution_count": null,
   "metadata": {
    "collapsed": true
   },
   "outputs": [],
   "source": []
  }
 ],
 "metadata": {
  "hide_input": false,
  "kernelspec": {
   "display_name": "Python [default]",
   "language": "python",
   "name": "python3"
  },
  "language_info": {
   "codemirror_mode": {
    "name": "ipython",
    "version": 3
   },
   "file_extension": ".py",
   "mimetype": "text/x-python",
   "name": "python",
   "nbconvert_exporter": "python",
   "pygments_lexer": "ipython3",
   "version": "3.5.2"
  }
 },
 "nbformat": 4,
 "nbformat_minor": 2
}
